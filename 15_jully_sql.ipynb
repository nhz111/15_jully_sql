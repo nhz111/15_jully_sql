{
  "nbformat": 4,
  "nbformat_minor": 0,
  "metadata": {
    "colab": {
      "provenance": []
    },
    "kernelspec": {
      "name": "python3",
      "display_name": "Python 3"
    },
    "language_info": {
      "name": "python"
    }
  },
  "cells": [
    {
      "cell_type": "code",
      "execution_count": null,
      "metadata": {
        "id": "F3yhKHSHhNYd"
      },
      "outputs": [],
      "source": []
    },
    {
      "cell_type": "markdown",
      "source": [
        "1. Write an SQL query to retrieve the names and email addresses of all employees from a table named \"Employees\"."
      ],
      "metadata": {
        "id": "CdNwDiJ8hcpS"
      }
    },
    {
      "cell_type": "code",
      "source": [
        "select names,email from Employees;"
      ],
      "metadata": {
        "id": "JWLrjae0hfC6"
      },
      "execution_count": null,
      "outputs": []
    },
    {
      "cell_type": "markdown",
      "source": [
        "2. Write an SQL query to filter records from a table named \"Customers\" where the \"City\" column is 'New York'."
      ],
      "metadata": {
        "id": "xjeHve88h8NU"
      }
    },
    {
      "cell_type": "code",
      "source": [
        "select * from customers where city='New YORK';"
      ],
      "metadata": {
        "id": "sZKPVfI8iKHQ"
      },
      "execution_count": null,
      "outputs": []
    },
    {
      "cell_type": "markdown",
      "source": [
        "3. Write an SQL query to sort records in descending order based on the \"DateOfBirth\" column in a table named \"Users\"."
      ],
      "metadata": {
        "id": "48PopOB1ipkr"
      }
    },
    {
      "cell_type": "code",
      "source": [
        "select * from users\n",
        "order by dateOFBirth desc;"
      ],
      "metadata": {
        "id": "wx3zG-H-ivoi"
      },
      "execution_count": null,
      "outputs": []
    },
    {
      "cell_type": "markdown",
      "source": [
        "4. Write an SQL query to sort records in ascending order based on the \"RegistrationDate\" column in a table named \"Users\""
      ],
      "metadata": {
        "id": "UkjbuYIijMcs"
      }
    },
    {
      "cell_type": "code",
      "source": [
        "select * from users\n",
        "order by RegistrationDate asc;"
      ],
      "metadata": {
        "id": "QvfIVoH3jVhc"
      },
      "execution_count": null,
      "outputs": []
    },
    {
      "cell_type": "markdown",
      "source": [
        "5. Write an SQL query to find the employee with the highest salary from a table named \"Employees\" and display their name, position, and salary.\n"
      ],
      "metadata": {
        "id": "EmBZGYaCjrJE"
      }
    },
    {
      "cell_type": "code",
      "source": [
        "select name,postion,salary where sal=(select max(sal) from employees);\n",
        "\n",
        "#second approach\n",
        "\n",
        "select name,postion,salary(select name,positino,salary, dense_rank() over(order by sal desc)as drm from employees) A where drn=1;"
      ],
      "metadata": {
        "id": "dUAQIHf8jxHx"
      },
      "execution_count": null,
      "outputs": []
    },
    {
      "cell_type": "markdown",
      "source": [],
      "metadata": {
        "id": "TvqOwISwqopu"
      }
    },
    {
      "cell_type": "markdown",
      "source": [
        "6. Write an SQL query to retrieve records from a table named \"Customers\" where the \"Phone\" column matches the pattern '+1-XXX-XXX-XXXX'."
      ],
      "metadata": {
        "id": "rHHXkEIkuDwY"
      }
    },
    {
      "cell_type": "code",
      "source": [
        "SELECT *\n",
        "FROM Customers\n",
        "WHERE Phone LIKE '+1-%-%-%-%';\n"
      ],
      "metadata": {
        "id": "PXK5OCzVuTOm"
      },
      "execution_count": null,
      "outputs": []
    },
    {
      "cell_type": "markdown",
      "source": [
        "7. Write an SQL query to retrieve the top 5 customers with the highest total purchase amount from a table named \"Orders\" and display their names and total purchase amounts.\n"
      ],
      "metadata": {
        "id": "2_k-mjrCvGSC"
      }
    },
    {
      "cell_type": "code",
      "source": [
        "select customerName, sum(orderAmount) as totalPurchaseAmount\n",
        "from orders\n",
        "group by customerName\n",
        "order by totalPurchaseAmount\n",
        "limit 5;"
      ],
      "metadata": {
        "id": "cM7uGz6FvMH_"
      },
      "execution_count": null,
      "outputs": []
    },
    {
      "cell_type": "markdown",
      "source": [
        "8. Write an SQL query to calculate the percentage of sales for each product category in a table named \"Sales\" and display the category name, total sales amount, and the percentage of total sales"
      ],
      "metadata": {
        "id": "1ifsxIfiwN0d"
      }
    },
    {
      "cell_type": "code",
      "source": [
        "SELECT CategoryName,\n",
        "       SUM(SalesAmount) AS TotalSalesAmount,\n",
        "       ROUND(100 * SUM(SalesAmount) / SUM(ALL SalesAmount), 2) AS PercentageOfTotalSales\n",
        "FROM Sales\n",
        "GROUP BY CategoryName;\n"
      ],
      "metadata": {
        "id": "Eyl6ShKdwTqA"
      },
      "execution_count": null,
      "outputs": []
    },
    {
      "cell_type": "markdown",
      "source": [
        "9. Write an SQL query to find the customers who have made the highest total purchases across all years from a table named \"Orders\" and display their names, email addresses, and the total purchase amount.\n"
      ],
      "metadata": {
        "id": "xCCFY-wCx4xD"
      }
    },
    {
      "cell_type": "code",
      "source": [
        "SELECT CustomerName, EmailAddress, Year, SUM(OrderAmount) AS TotalPurchaseAmount\n",
        "FROM Orders\n",
        "GROUP BY CustomerName, EmailAddress, Year\n",
        "ORDER BY TotalPurchaseAmount DESC;\n"
      ],
      "metadata": {
        "id": "5fjwoq26yD1q"
      },
      "execution_count": null,
      "outputs": []
    }
  ]
}